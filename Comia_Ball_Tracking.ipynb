{
  "nbformat": 4,
  "nbformat_minor": 0,
  "metadata": {
    "colab": {
      "provenance": []
    },
    "kernelspec": {
      "name": "python3",
      "display_name": "Python 3"
    },
    "language_info": {
      "name": "python"
    }
  },
  "cells": [
    {
      "cell_type": "code",
      "execution_count": 1,
      "metadata": {
        "id": "azcDiexk6Tpv"
      },
      "outputs": [],
      "source": [
        "!git clone https://github.com/alexandria08/Comia_Final.git\n",
        "%cd opencvTutorial/\n",
        "from IPython.display import clear_output\n",
        "clear_output()"
      ]
    },
    {
      "cell_type": "code",
      "source": [
        "import cv2\n",
        "import numpy as np\n",
        "from google.colab.patches import cv2_imshow\n",
        "\n",
        "ball = []\n",
        "cap = cv2.VideoCapture(\"/content/Comia_Final/Ball Tracking.mov\")\n",
        "out = cv2.VideoWriter('tracked ball.avi',cv2.VideoWriter_fourcc('M','J','P','G'),10,(1920,1080))\n",
        "while cap.isOpened():\n",
        "  ret, frame = cap.read()\n",
        "  if ret is False:\n",
        "    break\n",
        "  hsv = cv2.cvtColor(frame, cv2.COLOR_BGR2HSV)\n",
        "  lower_hue = np.array([10,100,100])\n",
        "  upper_hue = np.array([25,255,255])\n",
        "  mask = cv2.inRange(hsv,lower_hue, upper_hue)\n",
        "\n",
        "  (contours,_)=cv2.findContours(mask,cv2.RETR_TREE,cv2.CHAIN_APPROX_SIMPLE)\n",
        "\n",
        "  center = None\n",
        "\n",
        "  if len(contours)>0:\n",
        "    c = max(contours, key=cv2.contourArea)\n",
        "    ((x,y),radius) = cv2.minEnclosingCircle(c)\n",
        "    M = cv2.moments(c)\n",
        "    try:\n",
        "      center = (int(M[\"m10\"]/M[\"m00\"]), int(M[\"m01\"]/M[\"m00\"]))\n",
        "      cv2.circle(frame, center,10, (255,0,0),-1)\n",
        "      ball.append(center)\n",
        "    except:\n",
        "      pass\n",
        "    if len(ball)>2:\n",
        "      for i in range(1,len(ball)):\n",
        "        cv2.line(frame, ball[i-1], ball[i],(0,0,255),5)\n",
        "  out.write(frame)\n",
        "out.release()\n",
        "\n",
        "\n"
      ],
      "metadata": {
        "id": "aLga5u5y6WTb"
      },
      "execution_count": 3,
      "outputs": []
    }
  ]
}